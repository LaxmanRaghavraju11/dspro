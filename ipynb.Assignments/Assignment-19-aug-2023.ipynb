{
 "cells": [
  {
   "cell_type": "code",
   "execution_count": null,
   "id": "36b54348-2f57-4384-beb1-f4b711e9c85d",
   "metadata": {},
   "outputs": [],
   "source": [
    "#TOPIC: Python Basics Variable "
   ]
  },
  {
   "cell_type": "code",
   "execution_count": 4,
   "id": "6b880b0e-d07d-4b7d-aad5-57b1e050e5fc",
   "metadata": {},
   "outputs": [
    {
     "name": "stdout",
     "output_type": "stream",
     "text": [
      "x = 20, y = 10\n"
     ]
    }
   ],
   "source": [
    "#1. Declare two variables, `x` and `y`, and assign them integer values. Swap the values of these variables without using\n",
    "# any temporary variable\n",
    "\n",
    "x = 10\n",
    "y = 20\n",
    "y,x = x,y\n",
    "\n",
    "print(f'x = {x}, y = {y}')\n"
   ]
  },
  {
   "cell_type": "code",
   "execution_count": 11,
   "id": "3b326dd8-cc51-48e4-b627-1b96e8ef0b79",
   "metadata": {},
   "outputs": [
    {
     "name": "stdin",
     "output_type": "stream",
     "text": [
      "Enter length here =  10\n",
      "Enter width here =  20\n"
     ]
    },
    {
     "name": "stdout",
     "output_type": "stream",
     "text": [
      "200\n"
     ]
    }
   ],
   "source": [
    "\"\"\"\n",
    "2. Create a program that calculates the area of a rectangle. \n",
    "Take the length and width as inputs from the user and store them in variables. \n",
    "Calculate and display the area\n",
    "\"\"\"\n",
    "\n",
    "def calcAreaOfRectangle(l,b):\n",
    "    return l*b\n",
    "\n",
    "print(calcAreaOfRectangle(int(input('Enter length here = ')),int(input('Enter width here = '))))"
   ]
  },
  {
   "cell_type": "code",
   "execution_count": 10,
   "id": "44d60165-a376-44bd-b730-a787f3975822",
   "metadata": {},
   "outputs": [
    {
     "name": "stdin",
     "output_type": "stream",
     "text": [
      "Enter temperature in degrees here =  100\n"
     ]
    },
    {
     "name": "stdout",
     "output_type": "stream",
     "text": [
      "212.0°F\n"
     ]
    }
   ],
   "source": [
    "\"\"\"\n",
    "3. Write a Python program that converts temperatures from Celsius to Fahrenheit. \n",
    "Take the temperature in Celsius as input, store it in a variable, convert it to Fahrenheit, and display the result. \n",
    "\"\"\"\n",
    "\n",
    "def convertCelsiusToFahrenheit(temperatureInCelsius:int):\n",
    "\n",
    "    return (temperatureInCelsius * 9/5) + 32\n",
    "\n",
    "fahrenheit = str(convertCelsiusToFahrenheit(int(input('Enter temperature in degrees here = ')))) + '°F'\n",
    "print(fahrenheit)"
   ]
  },
  {
   "cell_type": "code",
   "execution_count": null,
   "id": "ff449beb-d9c4-4448-9d00-366b4349a58f",
   "metadata": {},
   "outputs": [],
   "source": [
    "#TOPIC: String Based Questions"
   ]
  },
  {
   "cell_type": "code",
   "execution_count": 1,
   "id": "03fe0965-8d69-4c33-89a8-88e2dad9b558",
   "metadata": {},
   "outputs": [
    {
     "name": "stdin",
     "output_type": "stream",
     "text": [
      " gfghj\n"
     ]
    },
    {
     "name": "stdout",
     "output_type": "stream",
     "text": [
      "5\n"
     ]
    }
   ],
   "source": [
    "#1. Write a Python program that takes a string as input and prints the length of the string.\n",
    "\n",
    "myString = str(input())\n",
    "\n",
    "myStringLen = len(myString)\n",
    "\n",
    "print(myStringLen)\n",
    "\n"
   ]
  },
  {
   "cell_type": "code",
   "execution_count": 3,
   "id": "1f30ce6a-abfd-42df-b08b-a88069fa5c83",
   "metadata": {},
   "outputs": [
    {
     "name": "stdin",
     "output_type": "stream",
     "text": [
      "enter sentence =  aeiou\n"
     ]
    },
    {
     "name": "stdout",
     "output_type": "stream",
     "text": [
      "5\n"
     ]
    }
   ],
   "source": [
    "#2. Create a program that takes a sentence from the user and counts the number of vowels (a, e, i, o, u) in the string.\n",
    "\n",
    "sentence = str(input('enter sentence = ')).lower()\n",
    "\n",
    "vowelsList = 'aeiou'\n",
    "\n",
    "#Method 1\n",
    "\n",
    "c = 0\n",
    "for l in sentence:\n",
    "    for v in vowelsList:\n",
    "        if v == l:\n",
    "            c += 1\n",
    "            break\n",
    "\n",
    "print(c)\n"
   ]
  },
  {
   "cell_type": "code",
   "execution_count": 5,
   "id": "d0321fef-094e-4388-a29f-2c557a7ec140",
   "metadata": {},
   "outputs": [
    {
     "name": "stdin",
     "output_type": "stream",
     "text": [
      "enter sentence =  aeiousdkvjn\n"
     ]
    },
    {
     "name": "stdout",
     "output_type": "stream",
     "text": [
      "5\n"
     ]
    }
   ],
   "source": [
    "#2. Create a program that takes a sentence from the user and counts the number of vowels (a, e, i, o, u) in the string.\n",
    "\n",
    "# Method 2\n",
    "\n",
    "sentence = str(input('enter sentence = ')).lower()\n",
    "\n",
    "vowelsList = 'aeiou'\n",
    "\n",
    "cnt = len(list(filter(lambda l : l in vowelsList ,sentence)))\n",
    "\n",
    "print(cnt)"
   ]
  },
  {
   "cell_type": "code",
   "execution_count": 6,
   "id": "d28e354a-d0c2-4283-b072-d635c6e21df6",
   "metadata": {},
   "outputs": [
    {
     "name": "stdout",
     "output_type": "stream",
     "text": [
      "Reverse of pythonskills is slliksnohtyp\n"
     ]
    }
   ],
   "source": [
    "# 3. Given a string, reverse the order of characters using string slicing and print the reversed string.\n",
    "\n",
    "myString = 'pythonskills'\n",
    "\n",
    "print(f'Reverse of {myString} is {myString[::-1]}')"
   ]
  },
  {
   "cell_type": "code",
   "execution_count": 7,
   "id": "d234ee00-50f7-49ab-83e7-1e5f03a23f80",
   "metadata": {},
   "outputs": [
    {
     "name": "stdin",
     "output_type": "stream",
     "text": [
      "Enter the String here =  racecar\n"
     ]
    },
    {
     "name": "stdout",
     "output_type": "stream",
     "text": [
      "racecar is Palindrome\n"
     ]
    }
   ],
   "source": [
    "# 4. Write a program that takes a string as input and checks if it is a palindrome (reads the same forwards and backwards).\n",
    "myString = str(input('Enter the String here = '))\n",
    "reverseString = myString[::-1]\n",
    "\n",
    "if myString == reverseString:\n",
    "    print(f'{myString} is Palindrome')\n",
    "else:\n",
    "    print(f'{myString} is not a Palindrome')\n",
    "\n"
   ]
  },
  {
   "cell_type": "code",
   "execution_count": 9,
   "id": "068b3b24-695a-468c-8ae0-f796082cc602",
   "metadata": {},
   "outputs": [
    {
     "name": "stdin",
     "output_type": "stream",
     "text": [
      "Enter the String here =  plese sont keep spaces in me\n"
     ]
    },
    {
     "name": "stdout",
     "output_type": "stream",
     "text": [
      "plesesontkeepspacesinme\n"
     ]
    }
   ],
   "source": [
    "# 5. Create a program that takes a string as input and removes all the spaces from it.\n",
    "# Print the modified string without spaces.\n",
    "from functools import reduce\n",
    "\n",
    "myString = str(input('Enter the String here = '))\n",
    "\n",
    "stringWithoutSpaces = str(reduce(lambda x, y: x + y, list(filter(lambda s: s != ' ', myString))))\n",
    "\n",
    "print(stringWithoutSpaces)"
   ]
  },
  {
   "cell_type": "code",
   "execution_count": null,
   "id": "f5d89245-9d0c-49b3-a9ce-7b7321f2b694",
   "metadata": {},
   "outputs": [],
   "source": []
  }
 ],
 "metadata": {
  "kernelspec": {
   "display_name": "Python 3 (ipykernel)",
   "language": "python",
   "name": "python3"
  },
  "language_info": {
   "codemirror_mode": {
    "name": "ipython",
    "version": 3
   },
   "file_extension": ".py",
   "mimetype": "text/x-python",
   "name": "python",
   "nbconvert_exporter": "python",
   "pygments_lexer": "ipython3",
   "version": "3.10.8"
  }
 },
 "nbformat": 4,
 "nbformat_minor": 5
}
